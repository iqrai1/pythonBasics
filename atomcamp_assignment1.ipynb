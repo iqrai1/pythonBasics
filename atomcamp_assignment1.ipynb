{
 "cells": [
  {
   "cell_type": "markdown",
   "metadata": {},
   "source": [
    "Task 1: Variables and Data Types\n",
    "a) Create three variables: one for storing your age (integer), one for your name (string), and one to\n",
    "check if you are a student (Boolean). Print the variables.\n",
    "b) Perform the following operations and print the results:\n",
    "- Add 25 to your age variable.\n",
    "- Concatenate your name with the string &quot;Smith.&quot;\n",
    "- Negate the Boolean variable (if True, make it False, and vice versa)."
   ]
  },
  {
   "cell_type": "code",
   "execution_count": 20,
   "metadata": {
    "colab": {
     "base_uri": "https://localhost:8080/"
    },
    "id": "q27UQM8pTKr8",
    "outputId": "891b6b02-1d5c-4a92-eafe-855643049b9e"
   },
   "outputs": [
    {
     "name": "stdout",
     "output_type": "stream",
     "text": [
      "Age: 25, Name: Iqra, is_Student: True\n"
     ]
    }
   ],
   "source": [
    "# Task1(a)\n",
    "age = 25\n",
    "name = \"Iqra\"\n",
    "is_student = True\n",
    "\n",
    "print(f\"Age: {age}, Name: {name}, is_Student: {is_student}\")\n"
   ]
  },
  {
   "cell_type": "code",
   "execution_count": 21,
   "metadata": {},
   "outputs": [
    {
     "name": "stdout",
     "output_type": "stream",
     "text": [
      "Age: 50, Name: Iqra Smith., is_Student: False\n"
     ]
    }
   ],
   "source": [
    "age += 25\n",
    "name += \" Smith.\"\n",
    "is_student = not is_student\n",
    "\n",
    "print(f\"Age: {age}, Name: {name}, is_Student: {is_student}\")\n"
   ]
  },
  {
   "cell_type": "markdown",
   "metadata": {},
   "source": [
    "Task 2: Expressions and Operators\n",
    "\n",
    "a) A rectangle has a width of 5.5 units and a height of 3.25 units. Store width and height in variables.\n",
    "Create a new variable called area and write an expression to calculate the area. Print the area in the\n",
    "outputthe end of your code. (Use the formula: area = π *\n",
    "radius^2, where π (pi) is approximately 3.14159)."
   ]
  },
  {
   "cell_type": "code",
   "execution_count": 15,
   "metadata": {
    "colab": {
     "base_uri": "https://localhost:8080/"
    },
    "id": "jGB26iFiVI1b",
    "outputId": "89f44df0-b529-410a-d79c-e066f214daca"
   },
   "outputs": [
    {
     "name": "stdout",
     "output_type": "stream",
     "text": [
      "The area of the rectangle is 17.875 square units\n"
     ]
    }
   ],
   "source": [
    "# Task1(a)\n",
    "width = 5.5\n",
    "height = 3.25\n",
    "\n",
    "area = width * height\n",
    "\n",
    "\n",
    "print(f\"The area of the rectangle is {area} square units\")\n"
   ]
  },
  {
   "cell_type": "code",
   "execution_count": 16,
   "metadata": {
    "colab": {
     "base_uri": "https://localhost:8080/"
    },
    "id": "ApeSknlCWLa_",
    "outputId": "5a8f6cf3-7f48-4b14-8f02-8cafe0aa22cb"
   },
   "outputs": [
    {
     "name": "stdout",
     "output_type": "stream",
     "text": [
      "Temperature in Fahrenheit: 77.0\n"
     ]
    }
   ],
   "source": [
    "# Task2(a)\n",
    "celsius_temperature = 25.0\n",
    "fahrenheit = (celsius_temperature * 9/5) + 32\n",
    "print(\"Temperature in Fahrenheit:\", fahrenheit)\n"
   ]
  },
  {
   "cell_type": "markdown",
   "metadata": {},
   "source": [
    "b) Create a temperature variable in Celsius. Convert it to Fahrenheit Store this temperature in a variable called Fahrenheit and print this variable."
   ]
  },
  {
   "cell_type": "code",
   "execution_count": 17,
   "metadata": {
    "colab": {
     "base_uri": "https://localhost:8080/"
    },
    "id": "kOu1JSu2Wd_t",
    "outputId": "047b434c-1814-4f12-88dd-77348307f1f9"
   },
   "outputs": [
    {
     "name": "stdout",
     "output_type": "stream",
     "text": [
      "The area of the circle with radius 5 is: 78.53975\n"
     ]
    }
   ],
   "source": [
    "# Task2(b)\n",
    "\n",
    "radius = 5\n",
    "pi = 3.14159\n",
    "area = pi * radius**2\n",
    "print(\"The area of the circle with radius\", radius, \"is:\", area)\n"
   ]
  },
  {
   "cell_type": "markdown",
   "metadata": {},
   "source": [
    "Task 3: Introduction to Data Structures\n",
    "\n",
    "a) Create a list called &quot;fruits&quot; containing the following fruits: &quot;apple,&quot; &quot;banana,&quot; &quot;orange,&quot; &quot;grape,&quot;\n",
    "and &quot;kiwi.&quot; Print the list.\n",
    "\n",
    "b) Create a tuple named &quot;months&quot; with the names of the first three months of the year. Print the\n",
    "tuple."
   ]
  },
  {
   "cell_type": "code",
   "execution_count": 22,
   "metadata": {
    "colab": {
     "base_uri": "https://localhost:8080/"
    },
    "id": "1oPWf_JlW8xO",
    "outputId": "08f36d3f-80b0-446d-e839-ef054a3bbde0"
   },
   "outputs": [
    {
     "name": "stdout",
     "output_type": "stream",
     "text": [
      "List of fruits: ['apple', 'banana', 'orange', 'grape', 'kiwi']\n",
      "Tuple of months: ('January', 'February', 'March')\n"
     ]
    }
   ],
   "source": [
    "## Task3(a,b)\n",
    "\n",
    "fruits = [\"apple\", \"banana\", \"orange\", \"grape\", \"kiwi\"]\n",
    "print(\"List of fruits:\", fruits)\n",
    "\n",
    "months = (\"January\", \"February\", \"March\")\n",
    "print(\"Tuple of months:\", months)\n"
   ]
  },
  {
   "cell_type": "markdown",
   "metadata": {},
   "source": [
    "Task 4: List Manipulation\n",
    "\n",
    "a) Given the list of numbers below, write a Python program to calculate the sum and average of\n",
    "these numbers. Print both results.\n",
    "numbers = [12, 34, 45, 67, 89, 100, 23, 56]\n",
    "\n",
    "b) Remove the first and last elements from the &quot;fruits&quot; list created earlier. Print the updated list."
   ]
  },
  {
   "cell_type": "code",
   "execution_count": 23,
   "metadata": {
    "colab": {
     "base_uri": "https://localhost:8080/"
    },
    "id": "bfwQi_l0XNKd",
    "outputId": "599162ac-6aad-4dc6-f3ea-4d302d82aa23"
   },
   "outputs": [
    {
     "name": "stdout",
     "output_type": "stream",
     "text": [
      "Sum of numbers: 426\n",
      "Average of numbers: 53.25\n"
     ]
    }
   ],
   "source": [
    "# Task4(a)\n",
    "\n",
    "numbers = [12, 34, 45, 67, 89, 100, 23, 56]\n",
    "total = sum(numbers)\n",
    "average = total / len(numbers)\n",
    "print(\"Sum of numbers:\", total)\n",
    "print(\"Average of numbers:\", average)\n",
    "\n"
   ]
  },
  {
   "cell_type": "code",
   "execution_count": 24,
   "metadata": {
    "colab": {
     "base_uri": "https://localhost:8080/"
    },
    "id": "2fIfP72GXbIs",
    "outputId": "9bccc0e3-831a-49c0-95ff-39a11ec515c3"
   },
   "outputs": [
    {
     "name": "stdout",
     "output_type": "stream",
     "text": [
      "Updated list of fruits: ['banana', 'orange', 'grape']\n"
     ]
    }
   ],
   "source": [
    "# Task4(b)\n",
    "\n",
    "fruits = [\"apple\", \"banana\", \"orange\", \"grape\", \"kiwi\"]\n",
    "fruits = fruits[1:-1]\n",
    "print(\"Updated list of fruits:\", fruits)"
   ]
  },
  {
   "cell_type": "markdown",
   "metadata": {},
   "source": [
    "Task 5: Dictionary Operations\n",
    "\n",
    "a) Create a dictionary named &quot;capitals&quot; with three key-value pairs: &quot;USA&quot; - &quot;Washington D.C.,&quot;\n",
    "&quot;France&quot; - &quot;Paris,&quot; and &quot;Japan&quot; - &quot;Tokyo.&quot; Print the dictionary.\n",
    "\n",
    "b) Add a new country and its capital to the &quot;capitals&quot; dictionary. The country is &quot;Germany,&quot; and the\n",
    "capital is &quot;Berlin.&quot; Print the updated dictionary.\n",
    "\n",
    "c) Check if &quot;France&quot; exists in the &quot;capitals&quot; dictionary. If it does, print &quot;France is in the dictionary,&quot;\n",
    "otherwise, print &quot;France is not in the dictionary.&quot; (at the end of the lab notebook for session 1, I have\n",
    "added an example of how to use “in” in python)."
   ]
  },
  {
   "cell_type": "code",
   "execution_count": 27,
   "metadata": {
    "colab": {
     "base_uri": "https://localhost:8080/"
    },
    "id": "rUrAng0tXhAt",
    "outputId": "6c3bb2e4-fedf-4c07-a977-22a4406e5b00"
   },
   "outputs": [
    {
     "name": "stdout",
     "output_type": "stream",
     "text": [
      "Initial Capitals Dictionary:\n",
      "{'USA': 'Washington D.C.', 'France': 'Paris', 'Japan': 'Tokyo'}\n",
      "\n",
      "Updated Capitals Dictionary:\n",
      "{'USA': 'Washington D.C.', 'France': 'Paris', 'Japan': 'Tokyo', 'Germany': 'Berlin'}\n",
      "France is in the dictionary.\n"
     ]
    }
   ],
   "source": [
    "\n",
    "# Task5(a)\n",
    "capitals = {\n",
    "    \"USA\": \"Washington D.C.\",\n",
    "    \"France\": \"Paris\",\n",
    "    \"Japan\": \"Tokyo\"\n",
    "}\n",
    "print(\"Initial Capitals Dictionary:\")\n",
    "print(capitals)\n",
    "\n",
    "# Task5(b)\n",
    "capitals[\"Germany\"] = \"Berlin\"\n",
    "print(\"\\nUpdated Capitals Dictionary:\")\n",
    "print(capitals)\n",
    "\n",
    "# Task5(c)\n",
    "if \"France\" in capitals:\n",
    "    print(\"France is in the dictionary.\")\n",
    "else:\n",
    "    print(\"France is not in the dictionary.\")\n"
   ]
  },
  {
   "cell_type": "markdown",
   "metadata": {},
   "source": [
    "Task 6: Comparison Operators, Logical Operators and If/Else:\n",
    "\n",
    "a) Create a variable called number that takes user input (we studied the input() function). Next,\n",
    "write a block of code that checks if the number is even or odd (hint: modulo operator. Refer to lab\n",
    "notebook 1).\n",
    "Your output should print “The number is even”, or the “The number is odd”.\n",
    "\n",
    "b) Create two variables called age and GPA. Give them values of your choice. Next, write a block of\n",
    "code to check if a student with this age and GPA is eligible for admission. The following are the\n",
    "conditions:\n",
    "- The student must be at least 18 years old.\n",
    "- The student&#39;s GPA must be 3.0 or higher on a scale of 4.0.\n",
    "Your output should print “Eligible for admission” or “Not eligible for admission”."
   ]
  },
  {
   "cell_type": "code",
   "execution_count": 28,
   "metadata": {
    "colab": {
     "base_uri": "https://localhost:8080/"
    },
    "id": "JrIfXz2SXwf8",
    "outputId": "377472c5-4720-438d-8094-2b77e75c1991"
   },
   "outputs": [
    {
     "name": "stdout",
     "output_type": "stream",
     "text": [
      "Enter a number: 2\n",
      "The number is even.\n",
      "Eligible for admission\n"
     ]
    }
   ],
   "source": [
    "# Task6(a)\n",
    "\n",
    "number = int(input(\"Enter a number: \"))\n",
    "if number % 2 == 0:\n",
    "    print(\"The number is even.\")\n",
    "else:\n",
    "    print(\"The number is odd.\")\n",
    "\n",
    "\n",
    "# Task6(b)\n",
    "\n",
    "age = 25\n",
    "gpa = 3.9\n",
    "\n",
    "if age >= 18 and gpa >= 3.0:\n",
    "    print(\"Eligible for admission\")\n",
    "else:\n",
    "    print(\"Not eligible for admission\")\n"
   ]
  },
  {
   "cell_type": "markdown",
   "metadata": {},
   "source": [
    "Task 7: Advanced Data Types\n",
    "\n",
    "a) Create a set named &quot;fruits_set&quot; containing the following fruits: &quot;apple,&quot; &quot;banana,&quot; &quot;orange,&quot;\n",
    "\n",
    "&quot;grape,&quot; and &quot;kiwi.&quot; Print the set.\n",
    "b) Given two sets:\n",
    "set1 = {1, 2, 3, 4, 5}\n",
    "set2 = {3, 4, 5, 6, 7}\n",
    "\n",
    "Write Python code to perform the following operations and print the results:\n",
    "- Union of set1 and set2.\n",
    "- Intersection of set1 and set2.\n",
    "- Difference between set1 and set2.\n",
    "- Check if set1 is a subset of set2."
   ]
  },
  {
   "cell_type": "code",
   "execution_count": 29,
   "metadata": {
    "colab": {
     "base_uri": "https://localhost:8080/"
    },
    "id": "E9IeIeTOYAHc",
    "outputId": "9b76f0f2-ff45-4f94-a63e-e63ee4f264a4"
   },
   "outputs": [
    {
     "name": "stdout",
     "output_type": "stream",
     "text": [
      "Fruits Set:\n",
      "{'grape', 'orange', 'kiwi', 'apple', 'banana'}\n",
      "\n",
      "Union of set1 and set2: {1, 2, 3, 4, 5, 6, 7}\n",
      "Intersection of set1 and set2: {3, 4, 5}\n",
      "Difference between set1 and set2: {1, 2}\n",
      "set1 is not a subset of set2.\n"
     ]
    }
   ],
   "source": [
    "# Task7(a)\n",
    "\n",
    "fruits_set = {\"apple\", \"banana\", \"orange\", \"grape\", \"kiwi\"}\n",
    "print(\"Fruits Set:\")\n",
    "print(fruits_set)\n",
    "\n",
    "# Task7(b)\n",
    "\n",
    "set1 = {1, 2, 3, 4, 5}\n",
    "set2 = {3, 4, 5, 6, 7}\n",
    "\n",
    "union_result = set1.union(set2)\n",
    "print(\"\\nUnion of set1 and set2:\", union_result)\n",
    "\n",
    "intersection_result = set1.intersection(set2)\n",
    "print(\"Intersection of set1 and set2:\", intersection_result)\n",
    "\n",
    "difference_result = set1.difference(set2)\n",
    "print(\"Difference between set1 and set2:\", difference_result)\n",
    "\n",
    "is_subset = set1.issubset(set2)\n",
    "if is_subset:\n",
    "    print(\"set1 is a subset of set2.\")\n",
    "else:\n",
    "    print(\"set1 is not a subset of set2.\")\n"
   ]
  },
  {
   "cell_type": "markdown",
   "metadata": {},
   "source": [
    "Task 8: Strings Manipulation\n",
    "\n",
    "a) Create a string variable containing the following sentence:\n",
    "&quot;Python programming is fun and powerful!&quot;\n",
    "Write Python code to do the following and print the results:\n",
    "- Find the length of the string.\n",
    "- Convert the string to uppercase.\n",
    "- Replace &quot;fun&quot; with &quot;exciting.&quot;\n",
    "- Check if the string contains the word &quot;Python.&quot;\n",
    "- Split the string into a list of words."
   ]
  },
  {
   "cell_type": "code",
   "execution_count": 30,
   "metadata": {
    "colab": {
     "base_uri": "https://localhost:8080/"
    },
    "id": "gBKwkmwNYXx8",
    "outputId": "a81fd5c5-bca4-41cd-d2f5-6e26a951fdb8"
   },
   "outputs": [
    {
     "name": "stdout",
     "output_type": "stream",
     "text": [
      "Length of the string: 39\n",
      "Uppercase string: PYTHON PROGRAMMING IS FUN AND POWERFUL!\n",
      "String after replacement: Python programming is exciting and powerful!\n",
      "The string contains the word 'Python'.\n",
      "List of words: ['Python', 'programming', 'is', 'fun', 'and', 'powerful!']\n"
     ]
    }
   ],
   "source": [
    "# Task8(a)\n",
    "\n",
    "sentence = \"Python programming is fun and powerful!\"\n",
    "length = len(sentence)\n",
    "print(\"Length of the string:\", length)\n",
    "\n",
    "uppercase_sentence = sentence.upper()\n",
    "print(\"Uppercase string:\", uppercase_sentence)\n",
    "\n",
    "\n",
    "replaced_sentence = sentence.replace(\"fun\", \"exciting\")\n",
    "print(\"String after replacement:\", replaced_sentence)\n",
    "\n",
    "contains_python = \"Python\" in sentence\n",
    "if contains_python:\n",
    "    print(\"The string contains the word 'Python'.\")\n",
    "else:\n",
    "    print(\"The string does not contain the word 'Python'.\")\n",
    "\n",
    "word_list = sentence.split()\n",
    "print(\"List of words:\", word_list)\n"
   ]
  },
  {
   "cell_type": "code",
   "execution_count": null,
   "metadata": {},
   "outputs": [],
   "source": []
  }
 ],
 "metadata": {
  "colab": {
   "provenance": []
  },
  "kernelspec": {
   "display_name": "Python 3 (ipykernel)",
   "language": "python",
   "name": "python3"
  },
  "language_info": {
   "codemirror_mode": {
    "name": "ipython",
    "version": 3
   },
   "file_extension": ".py",
   "mimetype": "text/x-python",
   "name": "python",
   "nbconvert_exporter": "python",
   "pygments_lexer": "ipython3",
   "version": "3.10.9"
  }
 },
 "nbformat": 4,
 "nbformat_minor": 1
}
