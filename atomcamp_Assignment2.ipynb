{
 "cells": [
  {
   "cell_type": "markdown",
   "id": "77895541",
   "metadata": {},
   "source": [
    "# Assignment 2 - Python"
   ]
  },
  {
   "cell_type": "markdown",
   "id": "d4cb0839",
   "metadata": {},
   "source": [
    "## Task 1"
   ]
  },
  {
   "cell_type": "markdown",
   "id": "2da76986",
   "metadata": {},
   "source": [
    "You are creating a Python program to simulate a simple guessing game. The game will have the\n",
    "following rules:\n",
    "1. The program will generate a random number between 1 and 50 and store it in a variable\n",
    "called &quot;secret_number.&quot; For this, you will need to import randint() from the random library\n",
    "in python. Run the following line of code in a cell:\n",
    "from random import randint\n",
    "\n",
    "2. The user will be given 5 attempts to guess the &quot;secret_number.&quot;\n",
    "\n",
    "3. The program will use a while loop to repeatedly ask the user for their guess and provide\n",
    "feedback based on their input. (Remember that input() returns a string even if the user\n",
    "enters a number.)\n",
    "\n",
    "4. First, handle the case where the user enters a non-numeric input. For this, you will need to\n",
    "add a try/except block. Google the syntax and under the try block, convert the guess into an\n",
    "int. If the entry is non-numeric, this conversion should fail and python will go to the except\n",
    "block. Under the except block, handle this error by printing &quot;Invalid input! Please enter a\n",
    "valid number” and utilize the continue statement to allow the user to try again without\n",
    "reducing their remaining attempts.\n",
    "\n",
    "5. If the user guesses the correct number, print &quot;Congratulations! You guessed the secret\n",
    "number [secret_number] correctly!&quot; and break out of the loop.\n",
    "6. If the user&#39;s guess is too high, print &quot;Try again! Your guess is too high. You have\n",
    "[attempts_left] attempts left.&quot; where &quot;attempts_left&quot; is the number of remaining attempts.\n",
    "\n",
    "7. If the user&#39;s guess is too low, print &quot;Try again! Your guess is too low. You have\n",
    "[attempts_left] attempts left.&quot;\n",
    "\n",
    "8. If the user runs out of attempts, print &quot;Game Over! The secret number was [secret_number].\n",
    "Better luck next time!&quot; and break out of the loop."
   ]
  },
  {
   "cell_type": "code",
   "execution_count": 3,
   "id": "6bb8eb31",
   "metadata": {},
   "outputs": [
    {
     "name": "stdout",
     "output_type": "stream",
     "text": [
      "33\n"
     ]
    }
   ],
   "source": [
    "import random\n",
    "secret_number = random.randint(1,50)\n",
    "print(secret_number)"
   ]
  },
  {
   "cell_type": "code",
   "execution_count": 4,
   "id": "fc29fa35",
   "metadata": {},
   "outputs": [
    {
     "name": "stdout",
     "output_type": "stream",
     "text": [
      "Guess the secret number (between 1 and 50): 3\n",
      "Try again! Your guess is too low. You have 4 attempts left.\n",
      "Guess the secret number (between 1 and 50): 2\n",
      "Try again! Your guess is too low. You have 3 attempts left.\n",
      "Guess the secret number (between 1 and 50): 3\n",
      "Try again! Your guess is too low. You have 2 attempts left.\n",
      "Guess the secret number (between 1 and 50): 4\n",
      "Try again! Your guess is too low. You have 1 attempts left.\n",
      "Guess the secret number (between 1 and 50): 5\n",
      "Try again! Your guess is too low. You have 0 attempts left.\n",
      "Game Over! The secret number was 33. Better luck next time!\n"
     ]
    }
   ],
   "source": [
    "attempts=1\n",
    "\n",
    "while attempts<=5:\n",
    "    try:\n",
    "        user_input = int(input(\"Guess the secret number (between 1 and 50): \"))\n",
    "        \n",
    "    except ValueError:\n",
    "        print(\"Invalid input! Please enter a valid number\")\n",
    "        continue\n",
    "        \n",
    "    if user_input == secret_number:\n",
    "        print(f\"Congratulations! You guessed the secret number {secret_number} correctly!\")\n",
    "        break\n",
    "        \n",
    "    elif user_input > secret_number:\n",
    "        print(f\"Try again! Your guess is too high. You have {5 - attempts} attempts left.\")\n",
    "    \n",
    "    else:\n",
    "        print(f\"Try again! Your guess is too low. You have {5 - attempts} attempts left.\")\n",
    "    \n",
    "    attempts += 1\n",
    "        \n",
    "    if attempts == 6:\n",
    "        print(f\"Game Over! The secret number was {secret_number}. Better luck next time!\")\n",
    "        break"
   ]
  },
  {
   "cell_type": "markdown",
   "id": "5835a0e1",
   "metadata": {},
   "source": []
  },
  {
   "cell_type": "markdown",
   "id": "67ade9d5",
   "metadata": {},
   "source": [
    "# num_vowels"
   ]
  },
  {
   "cell_type": "markdown",
   "id": "38a205d6",
   "metadata": {},
   "source": [
    "a) Write a function called num_vowels that takes in a string as an argument, and returns the\n",
    "number of vowels in that string. Print out the result for the string “Learning Python is fun\n",
    "and engaging.”"
   ]
  },
  {
   "cell_type": "code",
   "execution_count": 5,
   "id": "eb25d9b2",
   "metadata": {},
   "outputs": [
    {
     "name": "stdout",
     "output_type": "stream",
     "text": [
      "Number of vowels in Learning Python is fun and engaging : 10\n"
     ]
    }
   ],
   "source": [
    "def num_vowels(string):\n",
    "    vowels = \"aeiouwAEIOUW\"\n",
    "    count = 0\n",
    "    for char in string:\n",
    "        if char in vowels:\n",
    "            count += 1\n",
    "    result = print(f\"Number of vowels in {string} : {count}\")\n",
    "\n",
    "num_vowels(\"Learning Python is fun and engaging\")\n"
   ]
  },
  {
   "cell_type": "markdown",
   "id": "6ef32b8f",
   "metadata": {},
   "source": [
    "# hours_to_min"
   ]
  },
  {
   "cell_type": "markdown",
   "id": "0c678cf3",
   "metadata": {},
   "source": [
    "Create a function called hours_to_min that converts hours into minutes. The function\n",
    "should take the number of hours as input and return the equivalent number of minutes.\n",
    "Test the function with 2.5 hours and print the result."
   ]
  },
  {
   "cell_type": "code",
   "execution_count": 8,
   "id": "d463dcc7",
   "metadata": {},
   "outputs": [
    {
     "name": "stdout",
     "output_type": "stream",
     "text": [
      "2.5 hours is equal to 150.0 minutes.\n"
     ]
    }
   ],
   "source": [
    "def hours_to_min(hours):\n",
    "    minutes = hours * 60\n",
    "    return minutes\n",
    "\n",
    "hours = 2.5\n",
    "minutes = hours_to_min(hours)\n",
    "print(f\"{hours} hours is equal to {minutes} minutes.\")"
   ]
  },
  {
   "cell_type": "markdown",
   "id": "adc2606e",
   "metadata": {},
   "source": [
    "d) In your previous assignment, you wrote code that checks if a student is eligible for admission\n",
    "to a university. Turn that code into a function called eligibility. The function should take two\n",
    "arguments: the student&#39;s age and their previous GPA. The eligibility criteria are as follows:\n",
    "- The student must be at least 18 years old.\n",
    "- The student&#39;s previous GPA must be 3.0 or higher on a scale of 4.0.\n",
    "The function should return True if the student meets both criteria, otherwise, return False.\n",
    "Test the function with different ages and GPAs with and without keywords for example:\n",
    "eligibility(30, 3.2) [will depend on which order you provided the positional arguments in the\n",
    "definition]\n",
    "eligibility(GPA = 2.9, age = 40)"
   ]
  },
  {
   "cell_type": "code",
   "execution_count": 6,
   "id": "52e68a3b",
   "metadata": {},
   "outputs": [],
   "source": [
    "def eligibility(age,p_gpa):\n",
    "    if age >= 18 and p_gpa >= 3.0:\n",
    "        result = print(\"Eligibility: \", True)\n",
    "    else:\n",
    "        result = print(\"Eligibility: \", False)\n",
    "    return result"
   ]
  },
  {
   "cell_type": "code",
   "execution_count": 7,
   "id": "82061ef1",
   "metadata": {},
   "outputs": [
    {
     "name": "stdout",
     "output_type": "stream",
     "text": [
      "Eligibility:  False\n"
     ]
    }
   ],
   "source": [
    "eligibility(p_gpa=2.6, age = 34)"
   ]
  },
  {
   "cell_type": "code",
   "execution_count": null,
   "id": "368a9257",
   "metadata": {},
   "outputs": [],
   "source": []
  }
 ],
 "metadata": {
  "kernelspec": {
   "display_name": "Python 3 (ipykernel)",
   "language": "python",
   "name": "python3"
  },
  "language_info": {
   "codemirror_mode": {
    "name": "ipython",
    "version": 3
   },
   "file_extension": ".py",
   "mimetype": "text/x-python",
   "name": "python",
   "nbconvert_exporter": "python",
   "pygments_lexer": "ipython3",
   "version": "3.10.9"
  }
 },
 "nbformat": 4,
 "nbformat_minor": 5
}
